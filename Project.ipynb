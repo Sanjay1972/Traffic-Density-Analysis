{
 "cells": [
  {
   "cell_type": "code",
   "execution_count": 8,
   "metadata": {
    "colab": {
     "base_uri": "https://localhost:8080/"
    },
    "id": "I7DdTfvz1Xkw",
    "outputId": "403dfe44-22d4-4064-fb0a-aa87b336b77e"
   },
   "outputs": [
    {
     "name": "stdout",
     "output_type": "stream",
     "text": [
      "torch:  2.4 ; cuda:  cpu\n"
     ]
    },
    {
     "name": "stderr",
     "output_type": "stream",
     "text": [
      "'nvcc' is not recognized as an internal or external command,\n",
      "operable program or batch file.\n"
     ]
    }
   ],
   "source": [
    "import torch\n",
    "!nvcc --version\n",
    "TORCH_VERSION = \".\".join(torch.__version__.split(\".\")[:2])\n",
    "CUDA_VERSION = torch.__version__.split(\"+\")[-1]\n",
    "print(\"torch: \", TORCH_VERSION, \"; cuda: \", CUDA_VERSION)"
   ]
  },
  {
   "cell_type": "code",
   "execution_count": 9,
   "metadata": {
    "colab": {
     "base_uri": "https://localhost:8080/"
    },
    "id": "AMRzI2PC1Yaw",
    "outputId": "d39fef2e-2598-4358-e07e-5b97d25ec0fd"
   },
   "outputs": [
    {
     "name": "stdout",
     "output_type": "stream",
     "text": [
      "D:\\sanjay\\Traffic_density_analysis_proj\n"
     ]
    }
   ],
   "source": [
    "import os\n",
    "HOME = os.getcwd()\n",
    "print(HOME)"
   ]
  },
  {
   "cell_type": "code",
   "execution_count": 10,
   "metadata": {
    "colab": {
     "base_uri": "https://localhost:8080/"
    },
    "id": "is6SC1221e_E",
    "outputId": "9ff13a71-6322-486b-fb7c-84a588e3c0de"
   },
   "outputs": [
    {
     "name": "stdout",
     "output_type": "stream",
     "text": [
      "Ultralytics 8.3.27  Python-3.12.6 torch-2.4.1+cpu CPU (12th Gen Intel Core(TM) i7-12700H)\n",
      "Setup complete  (20 CPUs, 15.6 GB RAM, 0.2/146.5 GB disk)\n"
     ]
    }
   ],
   "source": [
    "!pip install ultralytics\n",
    "\n",
    "from IPython import display\n",
    "display.clear_output()\n",
    "\n",
    "import ultralytics\n",
    "ultralytics.checks()"
   ]
  },
  {
   "cell_type": "code",
   "execution_count": 11,
   "metadata": {
    "colab": {
     "base_uri": "https://localhost:8080/"
    },
    "id": "PEmPNyCu1hLn",
    "outputId": "c9092f97-ee50-4f4d-90fe-f3b9094e7597"
   },
   "outputs": [
    {
     "ename": "ModuleNotFoundError",
     "evalue": "No module named 'detectron2'",
     "output_type": "error",
     "traceback": [
      "\u001b[1;31m---------------------------------------------------------------------------\u001b[0m",
      "\u001b[1;31mModuleNotFoundError\u001b[0m                       Traceback (most recent call last)",
      "Cell \u001b[1;32mIn[11], line 6\u001b[0m\n\u001b[0;32m      3\u001b[0m \u001b[38;5;28;01mfrom\u001b[39;00m \u001b[38;5;21;01mIPython\u001b[39;00m \u001b[38;5;28;01mimport\u001b[39;00m display\n\u001b[0;32m      4\u001b[0m display\u001b[38;5;241m.\u001b[39mclear_output()\n\u001b[1;32m----> 6\u001b[0m \u001b[38;5;28;01mimport\u001b[39;00m \u001b[38;5;21;01mdetectron2\u001b[39;00m\n\u001b[0;32m      7\u001b[0m \u001b[38;5;28mprint\u001b[39m(\u001b[38;5;124m\"\u001b[39m\u001b[38;5;124mdetectron2:\u001b[39m\u001b[38;5;124m\"\u001b[39m, detectron2\u001b[38;5;241m.\u001b[39m__version__)\n",
      "\u001b[1;31mModuleNotFoundError\u001b[0m: No module named 'detectron2'"
     ]
    }
   ],
   "source": [
    "!python -m pip install 'git+https://github.com/facebookresearch/detectron2.git'\n",
    "\n",
    "from IPython import display\n",
    "display.clear_output()\n"
   ]
  },
  {
   "cell_type": "code",
   "execution_count": 12,
   "metadata": {
    "colab": {
     "base_uri": "https://localhost:8080/"
    },
    "id": "3SU1jRy012GD",
    "outputId": "47400040-c9d3-4a2e-c715-b85ede426ef5"
   },
   "outputs": [
    {
     "name": "stdout",
     "output_type": "stream",
     "text": [
      "D:\\sanjay\\Traffic_density_analysis_proj\n"
     ]
    },
    {
     "name": "stderr",
     "output_type": "stream",
     "text": [
      "C:\\Users\\smsan\\AppData\\Roaming\\Python\\Python312\\site-packages\\IPython\\core\\magics\\osm.py:417: UserWarning: This is now an optional IPython functionality, setting dhist requires you to install the `pickleshare` library.\n",
      "  self.shell.db['dhist'] = compress_dhist(dhist)[-100:]\n",
      "'wget' is not recognized as an internal or external command,\n",
      "operable program or batch file.\n"
     ]
    }
   ],
   "source": [
    "%cd {HOME}\n",
    "!wget --load-cookies /tmp/cookies.txt \"https://docs.google.com/uc?export=download&confirm=$(wget --quiet --save-cookies /tmp/cookies.txt --keep-session-cookies --no-check-certificate 'https://docs.google.com/uc?export=download&id=1pz68D1Gsx80MoPg-_q-IbEdESEmyVLm-' -O- | sed -rn 's/.*confirm=([0-9A-Za-z_]+).*/\\1\\n/p')&id=1pz68D1Gsx80MoPg-_q-IbEdESEmyVLm-\" -O vehicle-counting.mp4 && rm -rf /tmp/cookies.txt"
   ]
  },
  {
   "cell_type": "code",
   "execution_count": 13,
   "metadata": {
    "id": "_0nWNzD-3bOT"
   },
   "outputs": [],
   "source": [
    "SOURCE_VIDEO_PATH = f\"{HOME}/vehicle-counting.mp4\""
   ]
  },
  {
   "cell_type": "code",
   "execution_count": 14,
   "metadata": {
    "id": "-FrSjDMp4EAO"
   },
   "outputs": [],
   "source": [
    "!pip install supervision[assets] -q\n",
    "\n",
    "from IPython import display\n",
    "display.clear_output()"
   ]
  },
  {
   "cell_type": "code",
   "execution_count": 15,
   "metadata": {
    "colab": {
     "base_uri": "https://localhost:8080/"
    },
    "id": "TRA8qE7K4OQr",
    "outputId": "c8349923-b68a-4e24-a48e-ae0e69d2e796"
   },
   "outputs": [
    {
     "name": "stdout",
     "output_type": "stream",
     "text": [
      "Downloading https://github.com/ultralytics/assets/releases/download/v8.3.0/yolov8s.pt to 'yolov8s.pt'...\n"
     ]
    },
    {
     "name": "stderr",
     "output_type": "stream",
     "text": [
      "100%|█████████████████████████████████████████████████████████████████████████████| 21.5M/21.5M [04:31<00:00, 83.1kB/s]\n"
     ]
    }
   ],
   "source": [
    "from ultralytics import YOLO\n",
    "\n",
    "model = YOLO('yolov8s.pt')"
   ]
  },
  {
   "cell_type": "code",
   "execution_count": 16,
   "metadata": {
    "colab": {
     "base_uri": "https://localhost:8080/"
    },
    "id": "s5GzJbVr4br8",
    "outputId": "1a96312d-85b8-4ffc-9c4d-b53a704aaabe"
   },
   "outputs": [
    {
     "ename": "Exception",
     "evalue": "Could not open video at D:\\sanjay\\Traffic_density_analysis_proj/vehicle-counting.mp4",
     "output_type": "error",
     "traceback": [
      "\u001b[1;31m---------------------------------------------------------------------------\u001b[0m",
      "\u001b[1;31mException\u001b[0m                                 Traceback (most recent call last)",
      "Cell \u001b[1;32mIn[16], line 2\u001b[0m\n\u001b[0;32m      1\u001b[0m \u001b[38;5;28;01mimport\u001b[39;00m \u001b[38;5;21;01msupervision\u001b[39;00m \u001b[38;5;28;01mas\u001b[39;00m \u001b[38;5;21;01msv\u001b[39;00m\n\u001b[1;32m----> 2\u001b[0m \u001b[43msv\u001b[49m\u001b[38;5;241;43m.\u001b[39;49m\u001b[43mVideoInfo\u001b[49m\u001b[38;5;241;43m.\u001b[39;49m\u001b[43mfrom_video_path\u001b[49m\u001b[43m(\u001b[49m\u001b[43mSOURCE_VIDEO_PATH\u001b[49m\u001b[43m)\u001b[49m\n",
      "File \u001b[1;32m~\\AppData\\Roaming\\Python\\Python312\\site-packages\\supervision\\utils\\video.py:48\u001b[0m, in \u001b[0;36mVideoInfo.from_video_path\u001b[1;34m(cls, video_path)\u001b[0m\n\u001b[0;32m     46\u001b[0m video \u001b[38;5;241m=\u001b[39m cv2\u001b[38;5;241m.\u001b[39mVideoCapture(video_path)\n\u001b[0;32m     47\u001b[0m \u001b[38;5;28;01mif\u001b[39;00m \u001b[38;5;129;01mnot\u001b[39;00m video\u001b[38;5;241m.\u001b[39misOpened():\n\u001b[1;32m---> 48\u001b[0m     \u001b[38;5;28;01mraise\u001b[39;00m \u001b[38;5;167;01mException\u001b[39;00m(\u001b[38;5;124mf\u001b[39m\u001b[38;5;124m\"\u001b[39m\u001b[38;5;124mCould not open video at \u001b[39m\u001b[38;5;132;01m{\u001b[39;00mvideo_path\u001b[38;5;132;01m}\u001b[39;00m\u001b[38;5;124m\"\u001b[39m)\n\u001b[0;32m     50\u001b[0m width \u001b[38;5;241m=\u001b[39m \u001b[38;5;28mint\u001b[39m(video\u001b[38;5;241m.\u001b[39mget(cv2\u001b[38;5;241m.\u001b[39mCAP_PROP_FRAME_WIDTH))\n\u001b[0;32m     51\u001b[0m height \u001b[38;5;241m=\u001b[39m \u001b[38;5;28mint\u001b[39m(video\u001b[38;5;241m.\u001b[39mget(cv2\u001b[38;5;241m.\u001b[39mCAP_PROP_FRAME_HEIGHT))\n",
      "\u001b[1;31mException\u001b[0m: Could not open video at D:\\sanjay\\Traffic_density_analysis_proj/vehicle-counting.mp4"
     ]
    }
   ],
   "source": [
    "import supervision as sv\n",
    "sv.VideoInfo.from_video_path(SOURCE_VIDEO_PATH)"
   ]
  },
  {
   "cell_type": "code",
   "execution_count": null,
   "metadata": {
    "colab": {
     "base_uri": "https://localhost:8080/",
     "height": 740
    },
    "id": "i82Kdg7n3hGj",
    "outputId": "708669d3-992e-4495-bc32-1bdffcefb1a4"
   },
   "outputs": [],
   "source": [
    "import numpy as np\n",
    "\n",
    "\n",
    "# initiate polygon zone\n",
    "polygon = np.array([\n",
    "    [1700,600],\n",
    "    [1400,600 ],\n",
    "    [0,1800 ],\n",
    "    [1900,1800 ]\n",
    "])\n",
    "zone = sv.PolygonZone(polygon=polygon)\n",
    "\n",
    "# initiate annotators\n",
    "box_annotator = sv.BoundingBoxAnnotator(thickness=4)\n",
    "label_annotator = sv.LabelAnnotator(text_thickness=4, text_scale=2)\n",
    "zone_annotator = sv.PolygonZoneAnnotator(zone=zone, color=sv.Color.WHITE, thickness=6, text_thickness=6, text_scale=4)\n",
    "\n",
    "# extract video frame\n",
    "generator = sv.get_video_frames_generator(SOURCE_VIDEO_PATH)\n",
    "iterator = iter(generator)\n",
    "frame = next(iterator)\n",
    "\n",
    "# detect\n",
    "results = model(frame, imgsz=1280)[0]\n",
    "detections = sv.Detections.from_ultralytics(results)\n",
    "x=zone.trigger(detections=detections)\n",
    "\n",
    "# annotate\n",
    "labels = [f\"{model.names[class_id]} {confidence:0.2f}\" for _, _, confidence, class_id, _, _ in detections if class_id in [2,3,5,7]]\n",
    "frame = box_annotator.annotate(scene=frame, detections=detections)\n",
    "frame = label_annotator.annotate(scene=frame, detections=detections, labels=labels)\n",
    "frame = zone_annotator.annotate(scene=frame)\n",
    "\n",
    "%matplotlib inline\n",
    "sv.plot_image(frame, (16, 16))"
   ]
  },
  {
   "cell_type": "code",
   "execution_count": null,
   "metadata": {
    "colab": {
     "base_uri": "https://localhost:8080/"
    },
    "id": "qzqyvodjeBVi",
    "outputId": "27f25dd3-bd52-4872-9824-9d78e1f2b4af"
   },
   "outputs": [],
   "source": [
    "detections.xyxy.shape\n",
    "area=0\n",
    "for i in range(len(x)):\n",
    "  if x[i]:\n",
    "    area+=(detections.xyxy[i][2]-detections.xyxy[i][0])*(detections.xyxy[i][3]-detections.xyxy[i][1])\n",
    "from shapely.geometry import Polygon\n",
    "poly = Polygon(polygon)\n",
    "density=round(area/poly.area*100,2)"
   ]
  },
  {
   "cell_type": "code",
   "execution_count": null,
   "metadata": {
    "colab": {
     "base_uri": "https://localhost:8080/",
     "height": 757
    },
    "id": "lb-wDAXTjhYq",
    "outputId": "29ea7e58-5002-470e-86b8-5e0abab7f89d"
   },
   "outputs": [],
   "source": [
    "import numpy as np\n",
    "from shapely.geometry import Polygon, box\n",
    "from shapely.ops import unary_union\n",
    "\n",
    "# Define the polygon zone\n",
    "polygon = np.array([\n",
    "    [1700, 600],\n",
    "    [1400, 600],\n",
    "    [0, 1800],\n",
    "    [1900, 1800]\n",
    "])\n",
    "zone_polygon = Polygon(polygon)\n",
    "\n",
    "# Initiate zone, annotators, and model\n",
    "zone = sv.PolygonZone(polygon=polygon)\n",
    "\n",
    "# Annotators\n",
    "box_annotator = sv.BoundingBoxAnnotator(thickness=4)\n",
    "label_annotator = sv.LabelAnnotator(text_thickness=4, text_scale=2)\n",
    "zone_annotator = sv.PolygonZoneAnnotator(zone=zone, color=sv.Color.WHITE, thickness=6, text_thickness=6, text_scale=4)\n",
    "\n",
    "# Extract video frame\n",
    "generator = sv.get_video_frames_generator(SOURCE_VIDEO_PATH)\n",
    "iterator = iter(generator)\n",
    "frame = next(iterator)\n",
    "\n",
    "# Detect objects\n",
    "results = model(frame, imgsz=1280)[0]\n",
    "detections = sv.Detections.from_ultralytics(results)\n",
    "zone.trigger(detections=detections)\n",
    "\n",
    "# Annotate labels\n",
    "class_ids_of_interest = [2, 3, 5, 7]\n",
    "labels = [\n",
    "    f\"{model.names[class_id]} {confidence:0.2f}\"\n",
    "    for _, _, confidence, class_id, _, _ in detections\n",
    "    if class_id in class_ids_of_interest\n",
    "]\n",
    "\n",
    "# Annotate frame\n",
    "frame = box_annotator.annotate(scene=frame, detections=detections)\n",
    "frame = label_annotator.annotate(scene=frame, detections=detections, labels=labels)\n",
    "frame = zone_annotator.annotate(scene=frame)\n",
    "\n",
    "# Calculate area within polygon for specified class IDs\n",
    "polygons = []\n",
    "for (x_min, y_min, x_max, y_max, _, class_id) in detections:\n",
    "    if class_id in class_ids_of_interest:\n",
    "        # Create a bounding box polygon\n",
    "        box_polygon = box(x_min, y_min, x_max, y_max)\n",
    "\n",
    "        # Calculate the intersection of the bounding box with the zone polygon\n",
    "        intersection = zone_polygon.intersection(box_polygon)\n",
    "\n",
    "        if intersection.is_valid and not intersection.is_empty:\n",
    "            polygons.append(intersection)\n",
    "\n",
    "# Use unary_union to combine overlapping polygons\n",
    "union_polygon = unary_union(polygons)\n",
    "\n",
    "# Calculate the total area\n",
    "total_area = union_polygon.area\n",
    "print(f\"Total bounded area for classes 2, 3, 5, 7: {total_area}\")\n",
    "\n",
    "# Plot the annotated frame\n",
    "%matplotlib inline\n",
    "sv.plot_image(frame, (16, 16))\n"
   ]
  },
  {
   "cell_type": "code",
   "execution_count": 40,
   "metadata": {
    "colab": {
     "base_uri": "https://localhost:8080/",
     "height": 157
    },
    "id": "QBoVfrlMsf6V",
    "outputId": "7d9ee7c5-ace4-46b6-d5c5-484df76e4ecb"
   },
   "outputs": [
    {
     "name": "stdout",
     "output_type": "stream",
     "text": [
      "\n",
      "0: 736x1280 6 cars, 1 truck, 1410.3ms\n",
      "Speed: 12.7ms preprocess, 1410.3ms inference, 2.6ms postprocess per image at shape (1, 3, 736, 1280)\n",
      "Bounding boxes within the polygon zone for classes 2, 3, 5, 7:\n"
     ]
    },
    {
     "data": {
      "application/vnd.google.colaboratory.intrinsic+json": {
       "type": "string"
      },
      "text/plain": [
       "'box_annotator = sv.BoundingBoxAnnotator(thickness=4)\\nlabel_annotator = sv.LabelAnnotator(text_thickness=4, text_scale=2)\\nzone_annotator = sv.PolygonZoneAnnotator(zone=zone_polygon, color=sv.Color.WHITE, thickness=6, text_thickness=6, text_scale=4)\\n\\n# Annotate frame\\nframe = box_annotator.annotate(scene=frame, detections=detections)\\nframe = label_annotator.annotate(scene=frame, detections=detections)\\nframe = zone_annotator.annotate(scene=frame)\\n\\n# Plot the annotated frame\\n%matplotlib inline\\nsv.plot_image(frame, (16, 16))\\n'"
      ]
     },
     "execution_count": 40,
     "metadata": {},
     "output_type": "execute_result"
    }
   ],
   "source": []
  },
  {
   "cell_type": "code",
   "execution_count": null,
   "metadata": {
    "id": "qd8K8oSuuXsZ"
   },
   "outputs": [],
   "source": []
  }
 ],
 "metadata": {
  "colab": {
   "provenance": []
  },
  "kernelspec": {
   "display_name": "Python 3 (ipykernel)",
   "language": "python",
   "name": "python3"
  },
  "language_info": {
   "codemirror_mode": {
    "name": "ipython",
    "version": 3
   },
   "file_extension": ".py",
   "mimetype": "text/x-python",
   "name": "python",
   "nbconvert_exporter": "python",
   "pygments_lexer": "ipython3",
   "version": "3.12.6"
  }
 },
 "nbformat": 4,
 "nbformat_minor": 4
}
